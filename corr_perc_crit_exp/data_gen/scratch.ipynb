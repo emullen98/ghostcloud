{
 "cells": [
  {
   "cell_type": "code",
   "execution_count": null,
   "id": "2ed17d34",
   "metadata": {
    "vscode": {
     "languageId": "plaintext"
    }
   },
   "outputs": [],
   "source": [
    "import matplotlib.pyplot as plt\n",
    "import sys\n",
    "import os\n",
    "sys.path.insert(0, os.path.abspath(os.path.join(os.path.dirname(__file__), '../../utils')))\n",
    "from cloud_utils import *\n",
    "\n",
    "# Parameters for correlated percolation\n",
    "width = 256\n",
    "height = 256\n",
    "gamma_exp = 0.2\n",
    "p_val = 0.5927\n",
    "seed = 42\n",
    "\n",
    "# Generate the correlated percolation lattice\n",
    "lattice = generate_correlated_percolation_lattice(\n",
    "    width=width,\n",
    "    height=height,\n",
    "    gamma_exp=gamma_exp,\n",
    "    p_val=p_val,\n",
    "    seed=seed\n",
    ")\n",
    "\n",
    "# Show the lattice as an image\n",
    "plt.figure(figsize=(6, 6))\n",
    "plt.imshow(lattice, cmap='Greys_r', origin='lower')\n",
    "plt.title(f\"Correlated Percolation Lattice\\nγ={gamma_exp}, p={p_val}\")\n",
    "plt.axis('off')\n",
    "plt.show()"
   ]
  },
  {
   "cell_type": "code",
   "execution_count": null,
   "id": "07cc8bbd",
   "metadata": {
    "vscode": {
     "languageId": "plaintext"
    }
   },
   "outputs": [],
   "source": []
  }
 ],
 "metadata": {
  "language_info": {
   "name": "python"
  }
 },
 "nbformat": 4,
 "nbformat_minor": 5
}
